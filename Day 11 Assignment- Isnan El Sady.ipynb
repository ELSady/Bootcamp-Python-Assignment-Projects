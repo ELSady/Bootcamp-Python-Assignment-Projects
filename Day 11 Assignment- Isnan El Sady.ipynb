{
 "cells": [
  {
   "cell_type": "markdown",
   "id": "3b6e6bbd",
   "metadata": {},
   "source": [
    "## Importing Libraries"
   ]
  },
  {
   "cell_type": "markdown",
   "id": "b68b198a",
   "metadata": {},
   "source": [
    " - Importing necessary libraries for the analysis."
   ]
  },
  {
   "cell_type": "code",
   "execution_count": 1,
   "id": "bb949570",
   "metadata": {},
   "outputs": [],
   "source": [
    "import pandas as pd\n",
    "import seaborn as sns\n",
    "import matplotlib.pyplot as plt\n",
    "%matplotlib inline"
   ]
  },
  {
   "cell_type": "markdown",
   "id": "cb58f69d",
   "metadata": {},
   "source": [
    " - Pandas is used loading and viewing our dataset, also to process, clean and manipulate dataset.\n",
    " - Seaborn and Matplotlib to plot and visualize dataset."
   ]
  },
  {
   "cell_type": "markdown",
   "id": "77316f6c",
   "metadata": {},
   "source": [
    "## Load Dataset"
   ]
  },
  {
   "cell_type": "markdown",
   "id": "1d2eb336",
   "metadata": {},
   "source": [
    " - Loading our dataset, here we use the 'pd.read_csv' function from pandas to locate and read it. In Jupyter notebook, because this ipynb file has the same location with the csv, it can be automatically run.\n",
    " - Here i give aditional option  to display all the columns, by default, pandas only display several columns and not all of them.\n",
    " - Displaying the top 6 rows of dataset."
   ]
  },
  {
   "cell_type": "code",
   "execution_count": 2,
   "id": "3a5e08ba",
   "metadata": {},
   "outputs": [
    {
     "data": {
      "text/html": [
       "<div>\n",
       "<style scoped>\n",
       "    .dataframe tbody tr th:only-of-type {\n",
       "        vertical-align: middle;\n",
       "    }\n",
       "\n",
       "    .dataframe tbody tr th {\n",
       "        vertical-align: top;\n",
       "    }\n",
       "\n",
       "    .dataframe thead th {\n",
       "        text-align: right;\n",
       "    }\n",
       "</style>\n",
       "<table border=\"1\" class=\"dataframe\">\n",
       "  <thead>\n",
       "    <tr style=\"text-align: right;\">\n",
       "      <th></th>\n",
       "      <th>customerID</th>\n",
       "      <th>gender</th>\n",
       "      <th>SeniorCitizen</th>\n",
       "      <th>Partner</th>\n",
       "      <th>Dependents</th>\n",
       "      <th>tenure</th>\n",
       "      <th>PhoneService</th>\n",
       "      <th>MultipleLines</th>\n",
       "      <th>InternetService</th>\n",
       "      <th>OnlineSecurity</th>\n",
       "      <th>OnlineBackup</th>\n",
       "      <th>DeviceProtection</th>\n",
       "      <th>TechSupport</th>\n",
       "      <th>StreamingTV</th>\n",
       "      <th>StreamingMovies</th>\n",
       "      <th>Contract</th>\n",
       "      <th>PaperlessBilling</th>\n",
       "      <th>PaymentMethod</th>\n",
       "      <th>MonthlyCharges</th>\n",
       "      <th>TotalCharges</th>\n",
       "      <th>Churn</th>\n",
       "    </tr>\n",
       "  </thead>\n",
       "  <tbody>\n",
       "    <tr>\n",
       "      <th>0</th>\n",
       "      <td>7590-VHVEG</td>\n",
       "      <td>Female</td>\n",
       "      <td>0</td>\n",
       "      <td>Yes</td>\n",
       "      <td>No</td>\n",
       "      <td>1</td>\n",
       "      <td>No</td>\n",
       "      <td>No phone service</td>\n",
       "      <td>DSL</td>\n",
       "      <td>No</td>\n",
       "      <td>Yes</td>\n",
       "      <td>No</td>\n",
       "      <td>No</td>\n",
       "      <td>No</td>\n",
       "      <td>No</td>\n",
       "      <td>Month-to-month</td>\n",
       "      <td>Yes</td>\n",
       "      <td>Electronic check</td>\n",
       "      <td>29.85</td>\n",
       "      <td>29.85</td>\n",
       "      <td>No</td>\n",
       "    </tr>\n",
       "    <tr>\n",
       "      <th>1</th>\n",
       "      <td>5575-GNVDE</td>\n",
       "      <td>Male</td>\n",
       "      <td>0</td>\n",
       "      <td>No</td>\n",
       "      <td>No</td>\n",
       "      <td>34</td>\n",
       "      <td>Yes</td>\n",
       "      <td>No</td>\n",
       "      <td>DSL</td>\n",
       "      <td>Yes</td>\n",
       "      <td>No</td>\n",
       "      <td>Yes</td>\n",
       "      <td>No</td>\n",
       "      <td>No</td>\n",
       "      <td>No</td>\n",
       "      <td>One year</td>\n",
       "      <td>No</td>\n",
       "      <td>Mailed check</td>\n",
       "      <td>56.95</td>\n",
       "      <td>1889.5</td>\n",
       "      <td>No</td>\n",
       "    </tr>\n",
       "    <tr>\n",
       "      <th>2</th>\n",
       "      <td>3668-QPYBK</td>\n",
       "      <td>Male</td>\n",
       "      <td>0</td>\n",
       "      <td>No</td>\n",
       "      <td>No</td>\n",
       "      <td>2</td>\n",
       "      <td>Yes</td>\n",
       "      <td>No</td>\n",
       "      <td>DSL</td>\n",
       "      <td>Yes</td>\n",
       "      <td>Yes</td>\n",
       "      <td>No</td>\n",
       "      <td>No</td>\n",
       "      <td>No</td>\n",
       "      <td>No</td>\n",
       "      <td>Month-to-month</td>\n",
       "      <td>Yes</td>\n",
       "      <td>Mailed check</td>\n",
       "      <td>53.85</td>\n",
       "      <td>108.15</td>\n",
       "      <td>Yes</td>\n",
       "    </tr>\n",
       "    <tr>\n",
       "      <th>3</th>\n",
       "      <td>7795-CFOCW</td>\n",
       "      <td>Male</td>\n",
       "      <td>0</td>\n",
       "      <td>No</td>\n",
       "      <td>No</td>\n",
       "      <td>45</td>\n",
       "      <td>No</td>\n",
       "      <td>No phone service</td>\n",
       "      <td>DSL</td>\n",
       "      <td>Yes</td>\n",
       "      <td>No</td>\n",
       "      <td>Yes</td>\n",
       "      <td>Yes</td>\n",
       "      <td>No</td>\n",
       "      <td>No</td>\n",
       "      <td>One year</td>\n",
       "      <td>No</td>\n",
       "      <td>Bank transfer (automatic)</td>\n",
       "      <td>42.30</td>\n",
       "      <td>1840.75</td>\n",
       "      <td>No</td>\n",
       "    </tr>\n",
       "    <tr>\n",
       "      <th>4</th>\n",
       "      <td>9237-HQITU</td>\n",
       "      <td>Female</td>\n",
       "      <td>0</td>\n",
       "      <td>No</td>\n",
       "      <td>No</td>\n",
       "      <td>2</td>\n",
       "      <td>Yes</td>\n",
       "      <td>No</td>\n",
       "      <td>Fiber optic</td>\n",
       "      <td>No</td>\n",
       "      <td>No</td>\n",
       "      <td>No</td>\n",
       "      <td>No</td>\n",
       "      <td>No</td>\n",
       "      <td>No</td>\n",
       "      <td>Month-to-month</td>\n",
       "      <td>Yes</td>\n",
       "      <td>Electronic check</td>\n",
       "      <td>70.70</td>\n",
       "      <td>151.65</td>\n",
       "      <td>Yes</td>\n",
       "    </tr>\n",
       "    <tr>\n",
       "      <th>5</th>\n",
       "      <td>9305-CDSKC</td>\n",
       "      <td>Female</td>\n",
       "      <td>0</td>\n",
       "      <td>No</td>\n",
       "      <td>No</td>\n",
       "      <td>8</td>\n",
       "      <td>Yes</td>\n",
       "      <td>Yes</td>\n",
       "      <td>Fiber optic</td>\n",
       "      <td>No</td>\n",
       "      <td>No</td>\n",
       "      <td>Yes</td>\n",
       "      <td>No</td>\n",
       "      <td>Yes</td>\n",
       "      <td>Yes</td>\n",
       "      <td>Month-to-month</td>\n",
       "      <td>Yes</td>\n",
       "      <td>Electronic check</td>\n",
       "      <td>99.65</td>\n",
       "      <td>820.5</td>\n",
       "      <td>Yes</td>\n",
       "    </tr>\n",
       "  </tbody>\n",
       "</table>\n",
       "</div>"
      ],
      "text/plain": [
       "   customerID  gender  SeniorCitizen Partner Dependents  tenure PhoneService  \\\n",
       "0  7590-VHVEG  Female              0     Yes         No       1           No   \n",
       "1  5575-GNVDE    Male              0      No         No      34          Yes   \n",
       "2  3668-QPYBK    Male              0      No         No       2          Yes   \n",
       "3  7795-CFOCW    Male              0      No         No      45           No   \n",
       "4  9237-HQITU  Female              0      No         No       2          Yes   \n",
       "5  9305-CDSKC  Female              0      No         No       8          Yes   \n",
       "\n",
       "      MultipleLines InternetService OnlineSecurity OnlineBackup  \\\n",
       "0  No phone service             DSL             No          Yes   \n",
       "1                No             DSL            Yes           No   \n",
       "2                No             DSL            Yes          Yes   \n",
       "3  No phone service             DSL            Yes           No   \n",
       "4                No     Fiber optic             No           No   \n",
       "5               Yes     Fiber optic             No           No   \n",
       "\n",
       "  DeviceProtection TechSupport StreamingTV StreamingMovies        Contract  \\\n",
       "0               No          No          No              No  Month-to-month   \n",
       "1              Yes          No          No              No        One year   \n",
       "2               No          No          No              No  Month-to-month   \n",
       "3              Yes         Yes          No              No        One year   \n",
       "4               No          No          No              No  Month-to-month   \n",
       "5              Yes          No         Yes             Yes  Month-to-month   \n",
       "\n",
       "  PaperlessBilling              PaymentMethod  MonthlyCharges TotalCharges  \\\n",
       "0              Yes           Electronic check           29.85        29.85   \n",
       "1               No               Mailed check           56.95       1889.5   \n",
       "2              Yes               Mailed check           53.85       108.15   \n",
       "3               No  Bank transfer (automatic)           42.30      1840.75   \n",
       "4              Yes           Electronic check           70.70       151.65   \n",
       "5              Yes           Electronic check           99.65        820.5   \n",
       "\n",
       "  Churn  \n",
       "0    No  \n",
       "1    No  \n",
       "2   Yes  \n",
       "3    No  \n",
       "4   Yes  \n",
       "5   Yes  "
      ]
     },
     "execution_count": 2,
     "metadata": {},
     "output_type": "execute_result"
    }
   ],
   "source": [
    "df = pd.read_csv('Telcom.csv')\n",
    "pd.set_option('display.max_columns', None)\n",
    "df.head(6)"
   ]
  },
  {
   "cell_type": "markdown",
   "id": "d09992aa",
   "metadata": {},
   "source": [
    "## Data Profiling"
   ]
  },
  {
   "cell_type": "markdown",
   "id": "ad6f6fc8",
   "metadata": {},
   "source": [
    " - The Next step we want to do, after we get the data and previewing it. We want to do a data profiling.\n",
    " - Data Profiling may include, determining how many columns and rows, what is the index of each of the column, what is the dimension of dataset, et cetera.\n"
   ]
  },
  {
   "cell_type": "code",
   "execution_count": 3,
   "id": "cd93156c",
   "metadata": {},
   "outputs": [
    {
     "name": "stdout",
     "output_type": "stream",
     "text": [
      "Dataset dimension : 2\n",
      "Dataset shape : (7043, 21)\n",
      "Dataset size : 147903\n"
     ]
    }
   ],
   "source": [
    "print(\"Dataset dimension :\", df.ndim)\n",
    "print(\"Dataset shape :\", df.shape)\n",
    "print(\"Dataset size :\", df.size)"
   ]
  },
  {
   "cell_type": "markdown",
   "id": "d7aa07f4",
   "metadata": {},
   "source": [
    " - Here we can infer that dataset has 2 dimensions, comprises of 7043 observations (rows) and 21 charateristics (columns), and multiply those two numbers, we have a total 147903 number of elements of our dataset.\n",
    " - Now we know how many columns there are, but what each of the columns assigned for (indexed)?"
   ]
  },
  {
   "cell_type": "code",
   "execution_count": 4,
   "id": "3db2ff6a",
   "metadata": {},
   "outputs": [
    {
     "data": {
      "text/plain": [
       "Index(['customerID', 'gender', 'SeniorCitizen', 'Partner', 'Dependents',\n",
       "       'tenure', 'PhoneService', 'MultipleLines', 'InternetService',\n",
       "       'OnlineSecurity', 'OnlineBackup', 'DeviceProtection', 'TechSupport',\n",
       "       'StreamingTV', 'StreamingMovies', 'Contract', 'PaperlessBilling',\n",
       "       'PaymentMethod', 'MonthlyCharges', 'TotalCharges', 'Churn'],\n",
       "      dtype='object')"
      ]
     },
     "execution_count": 4,
     "metadata": {},
     "output_type": "execute_result"
    }
   ],
   "source": [
    "df.columns"
   ]
  },
  {
   "cell_type": "markdown",
   "id": "79e597b7",
   "metadata": {},
   "source": [
    " - By using the above function we know the index of each column. Such as, customerID, Partner, Contract, and so on.\n",
    " - Next we want to determine what type of each column falls into."
   ]
  },
  {
   "cell_type": "code",
   "execution_count": 5,
   "id": "e66c61e3",
   "metadata": {},
   "outputs": [
    {
     "data": {
      "text/plain": [
       "customerID           object\n",
       "gender               object\n",
       "SeniorCitizen         int64\n",
       "Partner              object\n",
       "Dependents           object\n",
       "tenure                int64\n",
       "PhoneService         object\n",
       "MultipleLines        object\n",
       "InternetService      object\n",
       "OnlineSecurity       object\n",
       "OnlineBackup         object\n",
       "DeviceProtection     object\n",
       "TechSupport          object\n",
       "StreamingTV          object\n",
       "StreamingMovies      object\n",
       "Contract             object\n",
       "PaperlessBilling     object\n",
       "PaymentMethod        object\n",
       "MonthlyCharges      float64\n",
       "TotalCharges         object\n",
       "Churn                object\n",
       "dtype: object"
      ]
     },
     "execution_count": 5,
     "metadata": {},
     "output_type": "execute_result"
    }
   ],
   "source": [
    "df.dtypes"
   ]
  },
  {
   "cell_type": "markdown",
   "id": "69b6b542",
   "metadata": {},
   "source": [
    " - Dataset is dominated by object / string Dtype with total of 18 variables, while the rest 3 variables are mix of integer and float."
   ]
  },
  {
   "cell_type": "markdown",
   "id": "83e2abcc",
   "metadata": {},
   "source": [
    "## Dataset Brief Explanation"
   ]
  },
  {
   "cell_type": "markdown",
   "id": "17170015",
   "metadata": {},
   "source": [
    " - The dataset is dominated mostly by categorical variables. As of now, the only numerical variables consist of only 5, while the rest are categorical.\n",
    " - There are couple of grouping of different types of measurement and understanding them better will help us learn the data aswell.\n",
    " - Subscriber's information, the brief information about the subcriber. For example: CustomerID, gender, SeniorCitizen, Partner, Dependents. and tenure period.\n",
    " - The type of service the company provides- PhoneService, MultipleLines, InternetService.\n",
    " - The Additional features / bundle added into the services they provide - OnlineSecurity, OnlineBackup, DeviceProtection, TechSupport, StreamingTV and  StreamingMovies.\n",
    " - Subscribers setup and annual bill for the services - Contract, PaperlessBilling, PaymenMethod.MonthlyCharges and totalCharges.\n",
    " \n",
    " \n",
    " - customerID, number assigned and is unique to each of the subscriber.\n",
    " - gender, specifies the gender of the subscriber.\n",
    " - SeniorCitizen, specifies whether a subscriber is an elderly or not.\n",
    " - Partner, specifies whether a subscriber has married (has a partner).\n",
    " - Dependent, specifies whether a subscriber pays the bill on their own or need someone to help pay the bill.\n",
    " - tenure, specifies how long a subscriber is using the company's service.\n",
    " - PhoneService, specifies whether a subscriber is using the phone service provided by the company.\n",
    " - MultipleLines, specifies whether a subscriber is using a combination of services at once, provided by the company.\n",
    " - InternetServices, types of internet used by each of the subscriber.\n",
    " - OnlineSecurity, specifies whether a subsriber is using the additional services of online / surfing security.\n",
    " - OnlineBackup, specifies wheter a subscriber is using the additional service of online data backup.\n",
    " - DeviceProtection, specifies whther a subscriber is using the additional service of device / router protection.\n",
    " - TechSupport, specifies whether a subscriber need the help of a technician should they come across a problem.\n",
    " - StreamingTV, specifies whether a subscriber want streaming tv services added to their packages.\n",
    " - StreamingMovies, specifies whether a subscriber want streaming movie services added to their package.\n",
    " - Contract, specifies how a subscriber want to prolong / extent using the company's service.\n",
    " - PaperlessBilling, specifies how the subscriber's bill is sent to them.\n",
    " - PaymenMethod, which platform a subscriber is paying their annual bill.\n",
    " - MonthlyCharges, the amount of money to be paid per month.\n",
    " - TotalCHarges, the grand total amount of money to be paid.\n",
    " - The last is Churn, refers to a condition where a subscribers ever cancelled or stop using the service."
   ]
  },
  {
   "cell_type": "markdown",
   "id": "37248bcf",
   "metadata": {},
   "source": [
    "## Checking for Missing Values"
   ]
  },
  {
   "cell_type": "markdown",
   "id": "e6f3c3ae",
   "metadata": {},
   "source": [
    " - Check to see if there's any missing value from our dataset.\n",
    " - Here we are going to make  a new dataframe consisting of 'Filling Factor', which counts how much is the missing value in dataset for a given columns. It is set in percentage."
   ]
  },
  {
   "cell_type": "code",
   "execution_count": 9,
   "id": "26ed5d4e",
   "metadata": {},
   "outputs": [
    {
     "data": {
      "text/html": [
       "<div>\n",
       "<style scoped>\n",
       "    .dataframe tbody tr th:only-of-type {\n",
       "        vertical-align: middle;\n",
       "    }\n",
       "\n",
       "    .dataframe tbody tr th {\n",
       "        vertical-align: top;\n",
       "    }\n",
       "\n",
       "    .dataframe thead th {\n",
       "        text-align: right;\n",
       "    }\n",
       "</style>\n",
       "<table border=\"1\" class=\"dataframe\">\n",
       "  <thead>\n",
       "    <tr style=\"text-align: right;\">\n",
       "      <th></th>\n",
       "      <th>index</th>\n",
       "      <th>Variable</th>\n",
       "      <th>Missing Value</th>\n",
       "      <th>Blank Value</th>\n",
       "      <th>Filling Factor %</th>\n",
       "    </tr>\n",
       "  </thead>\n",
       "  <tbody>\n",
       "    <tr>\n",
       "      <th>0</th>\n",
       "      <td>19</td>\n",
       "      <td>TotalCharges</td>\n",
       "      <td>0</td>\n",
       "      <td>11</td>\n",
       "      <td>99.921908</td>\n",
       "    </tr>\n",
       "    <tr>\n",
       "      <th>1</th>\n",
       "      <td>0</td>\n",
       "      <td>customerID</td>\n",
       "      <td>0</td>\n",
       "      <td>0</td>\n",
       "      <td>100.000000</td>\n",
       "    </tr>\n",
       "    <tr>\n",
       "      <th>2</th>\n",
       "      <td>18</td>\n",
       "      <td>MonthlyCharges</td>\n",
       "      <td>0</td>\n",
       "      <td>0</td>\n",
       "      <td>100.000000</td>\n",
       "    </tr>\n",
       "    <tr>\n",
       "      <th>3</th>\n",
       "      <td>17</td>\n",
       "      <td>PaymentMethod</td>\n",
       "      <td>0</td>\n",
       "      <td>0</td>\n",
       "      <td>100.000000</td>\n",
       "    </tr>\n",
       "    <tr>\n",
       "      <th>4</th>\n",
       "      <td>16</td>\n",
       "      <td>PaperlessBilling</td>\n",
       "      <td>0</td>\n",
       "      <td>0</td>\n",
       "      <td>100.000000</td>\n",
       "    </tr>\n",
       "    <tr>\n",
       "      <th>5</th>\n",
       "      <td>15</td>\n",
       "      <td>Contract</td>\n",
       "      <td>0</td>\n",
       "      <td>0</td>\n",
       "      <td>100.000000</td>\n",
       "    </tr>\n",
       "    <tr>\n",
       "      <th>6</th>\n",
       "      <td>14</td>\n",
       "      <td>StreamingMovies</td>\n",
       "      <td>0</td>\n",
       "      <td>0</td>\n",
       "      <td>100.000000</td>\n",
       "    </tr>\n",
       "    <tr>\n",
       "      <th>7</th>\n",
       "      <td>13</td>\n",
       "      <td>StreamingTV</td>\n",
       "      <td>0</td>\n",
       "      <td>0</td>\n",
       "      <td>100.000000</td>\n",
       "    </tr>\n",
       "    <tr>\n",
       "      <th>8</th>\n",
       "      <td>12</td>\n",
       "      <td>TechSupport</td>\n",
       "      <td>0</td>\n",
       "      <td>0</td>\n",
       "      <td>100.000000</td>\n",
       "    </tr>\n",
       "    <tr>\n",
       "      <th>9</th>\n",
       "      <td>11</td>\n",
       "      <td>DeviceProtection</td>\n",
       "      <td>0</td>\n",
       "      <td>0</td>\n",
       "      <td>100.000000</td>\n",
       "    </tr>\n",
       "    <tr>\n",
       "      <th>10</th>\n",
       "      <td>10</td>\n",
       "      <td>OnlineBackup</td>\n",
       "      <td>0</td>\n",
       "      <td>0</td>\n",
       "      <td>100.000000</td>\n",
       "    </tr>\n",
       "    <tr>\n",
       "      <th>11</th>\n",
       "      <td>8</td>\n",
       "      <td>InternetService</td>\n",
       "      <td>0</td>\n",
       "      <td>0</td>\n",
       "      <td>100.000000</td>\n",
       "    </tr>\n",
       "    <tr>\n",
       "      <th>12</th>\n",
       "      <td>7</td>\n",
       "      <td>MultipleLines</td>\n",
       "      <td>0</td>\n",
       "      <td>0</td>\n",
       "      <td>100.000000</td>\n",
       "    </tr>\n",
       "    <tr>\n",
       "      <th>13</th>\n",
       "      <td>6</td>\n",
       "      <td>PhoneService</td>\n",
       "      <td>0</td>\n",
       "      <td>0</td>\n",
       "      <td>100.000000</td>\n",
       "    </tr>\n",
       "    <tr>\n",
       "      <th>14</th>\n",
       "      <td>5</td>\n",
       "      <td>tenure</td>\n",
       "      <td>0</td>\n",
       "      <td>0</td>\n",
       "      <td>100.000000</td>\n",
       "    </tr>\n",
       "    <tr>\n",
       "      <th>15</th>\n",
       "      <td>4</td>\n",
       "      <td>Dependents</td>\n",
       "      <td>0</td>\n",
       "      <td>0</td>\n",
       "      <td>100.000000</td>\n",
       "    </tr>\n",
       "    <tr>\n",
       "      <th>16</th>\n",
       "      <td>3</td>\n",
       "      <td>Partner</td>\n",
       "      <td>0</td>\n",
       "      <td>0</td>\n",
       "      <td>100.000000</td>\n",
       "    </tr>\n",
       "    <tr>\n",
       "      <th>17</th>\n",
       "      <td>2</td>\n",
       "      <td>SeniorCitizen</td>\n",
       "      <td>0</td>\n",
       "      <td>0</td>\n",
       "      <td>100.000000</td>\n",
       "    </tr>\n",
       "    <tr>\n",
       "      <th>18</th>\n",
       "      <td>1</td>\n",
       "      <td>gender</td>\n",
       "      <td>0</td>\n",
       "      <td>0</td>\n",
       "      <td>100.000000</td>\n",
       "    </tr>\n",
       "    <tr>\n",
       "      <th>19</th>\n",
       "      <td>9</td>\n",
       "      <td>OnlineSecurity</td>\n",
       "      <td>0</td>\n",
       "      <td>0</td>\n",
       "      <td>100.000000</td>\n",
       "    </tr>\n",
       "    <tr>\n",
       "      <th>20</th>\n",
       "      <td>20</td>\n",
       "      <td>Churn</td>\n",
       "      <td>0</td>\n",
       "      <td>0</td>\n",
       "      <td>100.000000</td>\n",
       "    </tr>\n",
       "  </tbody>\n",
       "</table>\n",
       "</div>"
      ],
      "text/plain": [
       "    index          Variable  Missing Value  Blank Value  Filling Factor %\n",
       "0      19      TotalCharges              0           11         99.921908\n",
       "1       0        customerID              0            0        100.000000\n",
       "2      18    MonthlyCharges              0            0        100.000000\n",
       "3      17     PaymentMethod              0            0        100.000000\n",
       "4      16  PaperlessBilling              0            0        100.000000\n",
       "5      15          Contract              0            0        100.000000\n",
       "6      14   StreamingMovies              0            0        100.000000\n",
       "7      13       StreamingTV              0            0        100.000000\n",
       "8      12       TechSupport              0            0        100.000000\n",
       "9      11  DeviceProtection              0            0        100.000000\n",
       "10     10      OnlineBackup              0            0        100.000000\n",
       "11      8   InternetService              0            0        100.000000\n",
       "12      7     MultipleLines              0            0        100.000000\n",
       "13      6      PhoneService              0            0        100.000000\n",
       "14      5            tenure              0            0        100.000000\n",
       "15      4        Dependents              0            0        100.000000\n",
       "16      3           Partner              0            0        100.000000\n",
       "17      2     SeniorCitizen              0            0        100.000000\n",
       "18      1            gender              0            0        100.000000\n",
       "19      9    OnlineSecurity              0            0        100.000000\n",
       "20     20             Churn              0            0        100.000000"
      ]
     },
     "execution_count": 9,
     "metadata": {},
     "output_type": "execute_result"
    }
   ],
   "source": [
    "missing_data = df.isna().sum(axis=0).reset_index()\n",
    "missing_data.columns = ['Variable','Missing Value']\n",
    "blank_data = df.apply(lambda x : x == ' ').sum(axis=0).reset_index()\n",
    "blank_data.columns = ['Variable','Blank Value']\n",
    "merged_data = pd.merge(missing_data, blank_data, on=[\"Variable\"])\n",
    "merged_data['Filling Factor %'] = (df.shape[0]-merged_data['Missing Value'] + df.shape[0]-merged_data['Blank Value'] )/df.shape[0]*50\n",
    "merged_data.sort_values('Filling Factor %').reset_index(drop=False)"
   ]
  },
  {
   "cell_type": "markdown",
   "id": "bee7316e",
   "metadata": {},
   "source": [
    " - As we can see, dataset contains no missing values.\n",
    " - However, we may want to double-check if there's legit no missing value in dataset.\n",
    " - We may want to check aside of missing values, we have to consider a blank space (' ') as a missing value as well.\n",
    " - We apply lambda function to do so."
   ]
  },
  {
   "cell_type": "code",
   "execution_count": null,
   "id": "6be12320",
   "metadata": {},
   "outputs": [],
   "source": [
    "df.apply(lambda x : x == ' ').sum()"
   ]
  },
  {
   "cell_type": "markdown",
   "id": "652fd943",
   "metadata": {},
   "source": [
    " - We can see it very clearly in TotalCharges there are 11 blank spaces.\n",
    " - There are defiintely missing values in dataset.\n",
    " - Locating the datas with the blank spaces in dataset, using filter and then locating them with df.loc. "
   ]
  },
  {
   "cell_type": "code",
   "execution_count": null,
   "id": "49790d71",
   "metadata": {},
   "outputs": [],
   "source": [
    "filt = (df['TotalCharges'] == (' '))\n",
    "df.loc[filt]"
   ]
  },
  {
   "cell_type": "markdown",
   "id": "de2605d8",
   "metadata": {},
   "source": [
    " - We can now confirm there are 11 blank spaces in TotalCharges.\n",
    " - The data needs to be cleaned of missing value, proceed to data cleaning."
   ]
  },
  {
   "cell_type": "markdown",
   "id": "a71762c3",
   "metadata": {},
   "source": [
    "## Data Cleaning"
   ]
  },
  {
   "cell_type": "markdown",
   "id": "fe654321",
   "metadata": {},
   "source": [
    " - This process can be done by simply filling the blank space in TotaCharges variable by 0. Using the similar lambda method just like the above, we can replace the blank spaces by the value of 0.\n",
    " - However, first we have to confirm the columns type of TotalCharges. Using df.types, we can see what types that variable falls into."
   ]
  },
  {
   "cell_type": "code",
   "execution_count": null,
   "id": "f9b00e3d",
   "metadata": {},
   "outputs": [],
   "source": [
    "df.dtypes"
   ]
  },
  {
   "cell_type": "markdown",
   "id": "7cd75bcd",
   "metadata": {},
   "source": [
    " - The variable is still in object / string. Have to change it to either integer or float before. Now we know from dataset preview that some of the values of this variable are decimal, then float is the choice.\n",
    " - Next, is we replace the blank spaces by 0.0, because we choose float as our type for TotalCharges.\n",
    " - Using df.replace() to change blank spaces (' ') to ('0.0'), and then locate the replaced datas by df.loc."
   ]
  },
  {
   "cell_type": "code",
   "execution_count": null,
   "id": "5127b0f1",
   "metadata": {},
   "outputs": [],
   "source": [
    "df['TotalCharges'] = df['TotalCharges'].replace([' '],['0.0'])\n",
    "df.loc[(df['TotalCharges'] == '0.0')]"
   ]
  },
  {
   "cell_type": "markdown",
   "id": "71f97a71",
   "metadata": {},
   "source": [
    " - We can see now that the initial blank spaces of the variable have now been replaced by the 0.0's. \n",
    " - This time we can properly change TotalCharges variable into its proper type, float."
   ]
  },
  {
   "cell_type": "code",
   "execution_count": null,
   "id": "e1fe2884",
   "metadata": {},
   "outputs": [],
   "source": [
    "df['TotalCharges'] = df['TotalCharges'].astype(float)"
   ]
  },
  {
   "cell_type": "markdown",
   "id": "5e57e9a3",
   "metadata": {},
   "source": [
    " - Again, confirming that the variable's type has been changed using df.dtypes."
   ]
  },
  {
   "cell_type": "code",
   "execution_count": null,
   "id": "480a70f2",
   "metadata": {},
   "outputs": [],
   "source": [
    "df.dtypes"
   ]
  },
  {
   "cell_type": "markdown",
   "id": "cfdf0caf",
   "metadata": {},
   "source": [
    " - We might want to further look into SeniorCitizen as it has a value 0 but instead its variable type is object / string and not integer. \n",
    " - Check to see how many unique values for SeniorCitizen variable, using df.unique and df.value_counts"
   ]
  },
  {
   "cell_type": "code",
   "execution_count": null,
   "id": "9f63d910",
   "metadata": {},
   "outputs": [],
   "source": [
    "print('Unique value(s) of SenioCitizen : ', df['SeniorCitizen'].unique())\n",
    "print(df['SeniorCitizen'].value_counts())"
   ]
  },
  {
   "cell_type": "markdown",
   "id": "3504b80a",
   "metadata": {},
   "source": [
    " - The SeniorCitizen should be of categorical data, as it only has two values '0' and '1'.\n",
    " - Next is changing this variable into a string / object type value, also replacing the both value of '0' and '1' to 'No' and 'Yes' \n",
    " - Using the same df.replace method as the above to replace the values of '0' and '1' to 'No' and 'Yes' respectively."
   ]
  },
  {
   "cell_type": "code",
   "execution_count": null,
   "id": "ab70246e",
   "metadata": {},
   "outputs": [],
   "source": [
    "df['SeniorCitizen'] = df['SeniorCitizen'].astype(object)\n",
    "df['SeniorCitizen'] = df['SeniorCitizen'].replace([0,1],['No','Yes'])\n",
    "df.head(6)"
   ]
  },
  {
   "cell_type": "code",
   "execution_count": null,
   "id": "d0db1466",
   "metadata": {},
   "outputs": [],
   "source": [
    "df['SeniorCitizen'].value_counts()"
   ]
  },
  {
   "cell_type": "markdown",
   "id": "9a645e5f",
   "metadata": {},
   "source": [
    " - As we can see, both of the 0 and 1 have been replaced for SeniorCitizen variable.\n",
    " - Next is outlers checking and handling them."
   ]
  },
  {
   "cell_type": "markdown",
   "id": "001e7274",
   "metadata": {},
   "source": [
    "## Outliers Checking "
   ]
  },
  {
   "cell_type": "markdown",
   "id": "cb521892",
   "metadata": {},
   "source": [
    " - Checking and determining data outliers for each of the SeniorCitizen, tenure, MonthlyCharges and TotalCharges variable using IQR, 25th %tile and 75th %tile calculation. "
   ]
  },
  {
   "cell_type": "code",
   "execution_count": null,
   "id": "d11f6d5a",
   "metadata": {},
   "outputs": [],
   "source": [
    "###\n",
    "\n",
    "#tenure\n",
    "Q1_2 = df['tenure'].quantile(0.25)\n",
    "Q3_2 = df['tenure'].quantile(0.75)\n",
    "IQR_2 = Q3_2 - Q1_2\n",
    "LW_2 = Q1_2 - 1.5*IQR_2\n",
    "UB_2 = Q3_2 + 1.5*IQR_2\n",
    "OL_2 = ((df['tenure'] < LW_2) | (df['tenure'] > UB_2)).sum()\n",
    "\n",
    "###\n",
    "\n",
    "#MonthlyCharges\n",
    "Q1_3 = df['MonthlyCharges'].quantile(0.25)\n",
    "Q3_3 = df['MonthlyCharges'].quantile(0.75)\n",
    "IQR_3 = Q3_3 - Q1_3\n",
    "LW_3 = Q1_3 - 1.5*IQR_3\n",
    "UB_3 = Q3_3 + 1.5*IQR_3\n",
    "OL_3 = ((df['MonthlyCharges'] < LW_3) | (df['MonthlyCharges'] > UB_3)).sum()\n",
    "\n",
    "###\n",
    "\n",
    "#TotalCharges\n",
    "Q1_4 = df['TotalCharges'].quantile(0.25)\n",
    "Q3_4 = df['TotalCharges'].quantile(0.75)\n",
    "IQR_4 = Q3_4 - Q1_4\n",
    "LW_4 = Q1_4 - 1.5*IQR_4\n",
    "UB_4 = Q3_4 + 1.5*IQR_4\n",
    "OL_4 = ((df['TotalCharges'] < LW_4) | (df['TotalCharges'] > UB_4)).sum()\n",
    "\n",
    "###\n",
    "\n",
    "# Creating Outliers Dataframe \n",
    "df_outliers = pd.DataFrame({'Variables' : ['tenure','MonthlyCharges','TotalCharges'],\n",
    "                           '25th %tile' : [Q1_2,Q1_3,Q1_4],\n",
    "                           '75th %tile' : [Q3_2,Q3_3,Q3_4],\n",
    "                           'IQR' : [IQR_2,IQR_3,IQR_4],\n",
    "                           'Lower Bound' : [LW_2,LW_3,LW_4],\n",
    "                           'Upper Bound' : [UB_2,UB_3,UB_4],\n",
    "                           'Outliers count' : [OL_2,OL_3,OL_4]})\n",
    "df_outliers"
   ]
  },
  {
   "cell_type": "markdown",
   "id": "35d91c03",
   "metadata": {},
   "source": [
    " - No outliers found on dataset. All of the data meets the upper and lower boundaries for each tenure, MonthlyCharges and TotalCharges variable.\n",
    " - Running a boxplot for above variables, double-checking to see if there's any outliers.\n",
    " - Using seaborn package, we can plot a box plot diagram."
   ]
  },
  {
   "cell_type": "code",
   "execution_count": null,
   "id": "eb519db2",
   "metadata": {},
   "outputs": [],
   "source": [
    "ax1 = sns.boxplot(y='MonthlyCharges', data=df, color='green', orient='v')\n",
    "sns.set_style('whitegrid')\n",
    "ax1.set_title(\"Boxplot of Charges per Month\", fontsize = 15)\n",
    "ax1.set_xlabel(\"\")\n",
    "ax1.set_ylabel(\"\")\n",
    "plt.show()\n",
    "\n",
    "\n",
    "ax2 = sns.boxplot(y='TotalCharges', data=df, color='green', orient='v')\n",
    "sns.set_style('whitegrid')\n",
    "ax2.set_title(\"Boxplot of Total Charges\", fontsize = 15)\n",
    "ax2.set_xlabel(\"\")\n",
    "ax2.set_ylabel(\"\")\n",
    "plt.show()\n",
    "\n",
    "\n",
    "ax3 = sns.boxplot(y='tenure', data=df, color='green', orient='v')\n",
    "sns.set_style('whitegrid')\n",
    "ax3.set_title(\"Boxplot Tenure Period\", fontsize = 15)\n",
    "ax3.set_xlabel(\"\")\n",
    "ax3.set_ylabel(\"\")\n",
    "plt.show()"
   ]
  },
  {
   "cell_type": "markdown",
   "id": "d3ed212c",
   "metadata": {},
   "source": [
    " - There are no values which exceeds the upper and lower boundaries of the boxplot in those 3 variables.\n",
    " - We can assurely confirm there are no outliers in dataset."
   ]
  },
  {
   "cell_type": "markdown",
   "id": "1f22e01e",
   "metadata": {},
   "source": [
    "## Feature Engineering"
   ]
  },
  {
   "cell_type": "markdown",
   "id": "b21e2c69",
   "metadata": {},
   "source": [
    " - Feature Engineering is a technique to create new features from the existing data that could help to gain more insight into the data. \n",
    " - Lets say we to make a new feature which enables us to group values from  tenure variable into 5 different categories. \n",
    " - For this, we are using pandas qcut() function to group them. Say we name the feature 'tenurecategories'."
   ]
  },
  {
   "cell_type": "code",
   "execution_count": null,
   "id": "f2414e98",
   "metadata": {},
   "outputs": [],
   "source": [
    "lbs = ['Very Short','Short','Middle','Long','Very Long']\n",
    "df['tenurecategories'] = pd.qcut(df['tenure'], q=5, labels=lbs)\n",
    "df[['tenure','tenurecategories']].head(16)"
   ]
  },
  {
   "cell_type": "markdown",
   "id": "a81ab88f",
   "metadata": {},
   "source": [
    " - As we can see we have assigned a new feature which groups tenure variable into 5 different categories using pandas.\n",
    " - Now perhaps we may want to add a new feature which enables us to count how many values for each different categories."
   ]
  },
  {
   "cell_type": "code",
   "execution_count": null,
   "id": "10f93c48",
   "metadata": {},
   "outputs": [],
   "source": [
    "pd.DataFrame(df['tenurecategories'].value_counts())"
   ]
  },
  {
   "cell_type": "markdown",
   "id": "f0131fa9",
   "metadata": {},
   "source": [
    "## Data Normalization"
   ]
  },
  {
   "cell_type": "markdown",
   "id": "f56bc565",
   "metadata": {},
   "source": [
    " - Normalization is a rescaling of the data from the original range so that all values are within the new range of 0 and 1.\n",
    " - Here we want to Normalize tenure, MonthlyCharges and TotalCharges variable from our dataset.\n",
    " - We can normalize dataset using the scikit-learn object MinMaxScaler."
   ]
  },
  {
   "cell_type": "code",
   "execution_count": null,
   "id": "8595b011",
   "metadata": {},
   "outputs": [],
   "source": [
    "from sklearn.preprocessing import MinMaxScaler\n",
    "data1 = df[['tenure','MonthlyCharges','TotalCharges']]\n",
    "\n",
    "# Define MinMaxScaler\n",
    "scaler1 = MinMaxScaler()\n",
    "\n",
    "# Transform data\n",
    "scaled1 = scaler1.fit_transform(data1)\n",
    "\n",
    "# Turning into Dataframe\n",
    "dfnormal = pd.DataFrame(scaled1)\n",
    "dfnormal.columns = ['tenure_nrm', 'MonthlyCharges_nrm','TotalCharges_nrm']\n",
    "dfnormal"
   ]
  },
  {
   "cell_type": "markdown",
   "id": "63f78b1e",
   "metadata": {},
   "source": [
    "## Data Standarization"
   ]
  },
  {
   "cell_type": "markdown",
   "id": "07ba9a59",
   "metadata": {},
   "source": [
    " - Standardizing a dataset involves rescaling the distribution of values so that the mean of observed values is 0 and the standard deviation is 1.\n",
    " - We can standardize our dataset using the scikit-learn object StandardScaler."
   ]
  },
  {
   "cell_type": "code",
   "execution_count": null,
   "id": "9e579879",
   "metadata": {},
   "outputs": [],
   "source": [
    "from sklearn.preprocessing import StandardScaler\n",
    "data2 = dfnormal\n",
    "\n",
    "# Define StandardScaler\n",
    "scaler2 = StandardScaler()\n",
    "\n",
    "# Transform data\n",
    "scaled2 = scaler2.fit_transform(data2)\n",
    "\n",
    "# Turning into Dataframe\n",
    "dfstd = pd.DataFrame(scaled2)\n",
    "dfstd.columns = ['tenure_std', 'MonthlyCharges_std','TotalCharges_std']\n",
    "dfstd"
   ]
  },
  {
   "cell_type": "markdown",
   "id": "233687cc",
   "metadata": {},
   "source": [
    "## Comparison"
   ]
  },
  {
   "cell_type": "markdown",
   "id": "e81b7be0",
   "metadata": {},
   "source": [
    " - Now we want to compare the descriptive statistics attributes for each of df, dfnormal and dfstd."
   ]
  },
  {
   "cell_type": "code",
   "execution_count": null,
   "id": "11600351",
   "metadata": {},
   "outputs": [],
   "source": [
    "print(df.describe())\n",
    "print(dfnormal.describe())\n",
    "print(dfstd.describe())"
   ]
  },
  {
   "cell_type": "markdown",
   "id": "d4bf7c62",
   "metadata": {},
   "source": [
    "## Categorical Data Encoding"
   ]
  },
  {
   "cell_type": "markdown",
   "id": "30d2e427",
   "metadata": {},
   "source": [
    " - Implied above, we know that much of the dataset's variable are predominantly in string type. As such, it is much more useful and easier if we group and classify them using this method.\n",
    " - However, we may want to drop the customerID variable, as the value of this variables are unique to each customer (7043 different values) then in order to simplify the process we will drop it. "
   ]
  },
  {
   "cell_type": "code",
   "execution_count": null,
   "id": "2bca8523",
   "metadata": {},
   "outputs": [],
   "source": [
    "df.drop('customerID', axis=1, inplace=True)\n",
    "df_dummy = pd.get_dummies(df)\n",
    "df_dummy.head()"
   ]
  }
 ],
 "metadata": {
  "kernelspec": {
   "display_name": "Python 3",
   "language": "python",
   "name": "python3"
  },
  "language_info": {
   "codemirror_mode": {
    "name": "ipython",
    "version": 3
   },
   "file_extension": ".py",
   "mimetype": "text/x-python",
   "name": "python",
   "nbconvert_exporter": "python",
   "pygments_lexer": "ipython3",
   "version": "3.8.8"
  }
 },
 "nbformat": 4,
 "nbformat_minor": 5
}
